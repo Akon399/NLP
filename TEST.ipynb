{
 "cells": [
  {
   "cell_type": "code",
   "execution_count": 2,
   "id": "28982bcc-2e18-41fb-b78e-03947488dd97",
   "metadata": {},
   "outputs": [
    {
     "name": "stdout",
     "output_type": "stream",
     "text": [
      "Mean: 3.0\n"
     ]
    }
   ],
   "source": [
    "sequence = [1, 2, 3, 4, 5]\n",
    "\n",
    "def calculate_mean(sequence):\n",
    "    \"\"\"\n",
    "    Calculate the mean of a sequence of numbers.\n",
    "    \n",
    "    Parameters:\n",
    "    sequence (list): A list of numbers.\n",
    "    \n",
    "    Returns:\n",
    "    float: The mean of the sequence.\n",
    "    \"\"\"\n",
    "    return sum(sequence) / len(sequence)\n",
    "\n",
    "print(\"Mean:\", calculate_mean(sequence))"
   ]
  },
  {
   "cell_type": "code",
   "execution_count": 3,
   "id": "adf0e007-4520-41fc-b07f-76337c98cd84",
   "metadata": {},
   "outputs": [
    {
     "name": "stdout",
     "output_type": "stream",
     "text": [
      "Max: 5\n"
     ]
    }
   ],
   "source": [
    "def calculate_max(sequence):\n",
    "    \"\"\"\n",
    "    Calculate the maximum value in a sequence of numbers.\n",
    "    \n",
    "    Parameters:\n",
    "    sequence (list): A list of numbers.\n",
    "    \n",
    "    Returns:\n",
    "    float: The maximum value in the sequence.\n",
    "    \"\"\"\n",
    "    return max(sequence)\n",
    "\n",
    "print(\"Max:\", calculate_max(sequence))"
   ]
  },
  {
   "cell_type": "code",
   "execution_count": 4,
   "id": "79db144f-9b51-41b9-acc8-ff8d150cb1e9",
   "metadata": {},
   "outputs": [
    {
     "name": "stdout",
     "output_type": "stream",
     "text": [
      "Sum: 15\n"
     ]
    }
   ],
   "source": [
    "def calculate_sum(sequence):\n",
    "    \"\"\"\n",
    "    Calculate the sum of a sequence of numbers.\n",
    "    \n",
    "    Parameters:\n",
    "    sequence (list): A list of numbers.\n",
    "    \n",
    "    Returns:\n",
    "    float: The sum of the sequence.\n",
    "    \"\"\"\n",
    "    return sum(sequence)\n",
    "\n",
    "print(\"Sum:\", calculate_sum(sequence))"
   ]
  },
  {
   "cell_type": "code",
   "execution_count": 5,
   "id": "056f1916-1608-4741-8d94-6d0236072fd5",
   "metadata": {},
   "outputs": [
    {
     "name": "stdout",
     "output_type": "stream",
     "text": [
      "Variance: 2.0\n"
     ]
    }
   ],
   "source": [
    "def calculate_variance(sequence):\n",
    "    \"\"\"\n",
    "    Calculate the variance of a sequence of numbers.\n",
    "    \n",
    "    Parameters:\n",
    "    sequence (list): A list of numbers.\n",
    "    \n",
    "    Returns:\n",
    "    float: The variance of the sequence.\n",
    "    \"\"\"\n",
    "    mean = calculate_mean(sequence)\n",
    "    variance = sum((x - mean) ** 2 for x in sequence) / len(sequence)\n",
    "    return variance\n",
    "\n",
    "print(\"Variance:\", calculate_variance(sequence))"
   ]
  },
  {
   "cell_type": "code",
   "execution_count": 6,
   "id": "29c1d077-df71-4d1f-b063-51ff41ac8c18",
   "metadata": {},
   "outputs": [
    {
     "name": "stdout",
     "output_type": "stream",
     "text": [
      "Standard Deviation: 1.4142135623730951\n"
     ]
    }
   ],
   "source": [
    "def calculate_std_deviation(sequence):\n",
    "    \"\"\"\n",
    "    Calculate the standard deviation of a sequence of numbers.\n",
    "    \n",
    "    Parameters:\n",
    "    sequence (list): A list of numbers.\n",
    "    \n",
    "    Returns:\n",
    "    float: The standard deviation of the sequence.\n",
    "    \"\"\"\n",
    "    variance = calculate_variance(sequence)\n",
    "    return variance ** 0.5\n",
    "\n",
    "print(\"Standard Deviation:\", calculate_std_deviation(sequence))"
   ]
  }
 ],
 "metadata": {
  "kernelspec": {
   "display_name": "Python 3 (ipykernel)",
   "language": "python",
   "name": "python3"
  },
  "language_info": {
   "codemirror_mode": {
    "name": "ipython",
    "version": 3
   },
   "file_extension": ".py",
   "mimetype": "text/x-python",
   "name": "python",
   "nbconvert_exporter": "python",
   "pygments_lexer": "ipython3",
   "version": "3.11.7"
  }
 },
 "nbformat": 4,
 "nbformat_minor": 5
}
