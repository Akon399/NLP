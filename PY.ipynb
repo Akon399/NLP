{
 "cells": [
  {
   "cell_type": "code",
   "execution_count": 24,
   "id": "0a512a2e-f463-43c3-9926-f8ef19c3da5f",
   "metadata": {},
   "outputs": [
    {
     "name": "stdout",
     "output_type": "stream",
     "text": [
      "Bob\n",
      "David\n"
     ]
    }
   ],
   "source": [
    "people = [\n",
    "   {\"name\": \"Alice\", \"age\": 30},\n",
    "   {\"name\": \"Bob\", \"age\": 17},\n",
    "   {\"name\": \"Charlie\", \"age\": 25},\n",
    "   {\"name\": \"David\", \"age\": 15}\n",
    "]\n",
    "\n",
    "def under(people):\n",
    "    for i in people:\n",
    "        if i[\"age\"] < 18:\n",
    "            print(i[\"name\"])\n",
    "#        return people[0][\"age\"] < 18\n",
    "under(people)"
   ]
  },
  {
   "cell_type": "code",
   "execution_count": 58,
   "id": "008160d8-532e-4223-abc3-9e73dfb3b44b",
   "metadata": {},
   "outputs": [
    {
     "name": "stdout",
     "output_type": "stream",
     "text": [
      "test\n"
     ]
    }
   ],
   "source": [
    "paragraph = \"This is a test. This test is ONLY A TEST!\"\n",
    "\n",
    "def word(paragraph):\n",
    "    words = paragraph.lower().replace(\"!\", \" \").replace(\".\", \" \").split()\n",
    "    word = {}\n",
    "    for i in words:\n",
    "        if i not in word:\n",
    "            word[i] = 1 \n",
    "        else: \n",
    "            word[i] = word[i] + 1\n",
    "    print(max(word, key=word.get))\n",
    "    #print(word)\n",
    "\n",
    "word(paragraph)"
   ]
  },
  {
   "cell_type": "code",
   "execution_count": 65,
   "id": "1cbec910-e394-4232-b3f3-4593921ef875",
   "metadata": {},
   "outputs": [
    {
     "name": "stdout",
     "output_type": "stream",
     "text": [
      "['sample', 'sentence,', 'showing', 'stop', 'words', 'filtration.']\n"
     ]
    }
   ],
   "source": [
    "sentence = \"This is a sample sentence, showing off the stop words filtration.\"\n",
    "stopwords = {\"is\", \"a\", \"the\", \"off\", \"this\"}\n",
    "\n",
    "def remove_stopwords(sentence, stopwords):\n",
    "    words = sentence.lower().split()\n",
    "    return [word for word in words if word not in stopwords]\n",
    "\n",
    "print(remove_stopwords(sentence, stopwords))"
   ]
  }
 ],
 "metadata": {
  "kernelspec": {
   "display_name": "Python 3 (ipykernel)",
   "language": "python",
   "name": "python3"
  },
  "language_info": {
   "codemirror_mode": {
    "name": "ipython",
    "version": 3
   },
   "file_extension": ".py",
   "mimetype": "text/x-python",
   "name": "python",
   "nbconvert_exporter": "python",
   "pygments_lexer": "ipython3",
   "version": "3.11.7"
  }
 },
 "nbformat": 4,
 "nbformat_minor": 5
}
